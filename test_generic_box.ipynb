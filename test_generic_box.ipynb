{
 "cells": [
  {
   "cell_type": "code",
   "execution_count": 19,
   "id": "3cf536e7-9565-49b8-b0d0-54d94d7d3ffa",
   "metadata": {},
   "outputs": [],
   "source": [
    "# Test for the estimation of a single image key-points\n",
    "\n",
    "import argparse\n",
    "import grpc\n",
    "import io\n",
    "import matplotlib.pyplot as plt\n",
    "import generic_box_pb2\n",
    "import generic_box_pb2_grpc\n",
    "from scipy.io import savemat, loadmat\n",
    "import PIL.Image as PIL_image\n",
    "import cv2\n",
    "import numpy as np"
   ]
  },
  {
   "cell_type": "markdown",
   "id": "6236594b-6e39-476d-a9ce-4657821a24ac",
   "metadata": {},
   "source": [
    "## These functions assume the matlab file has one image in variable \"image\""
   ]
  },
  {
   "cell_type": "code",
   "execution_count": 20,
   "id": "3890840e-182f-4f36-82c4-27c3b621e389",
   "metadata": {},
   "outputs": [],
   "source": [
    "\n",
    "\n",
    "def SendEmptyMessage(stub):\n",
    "    request = generic_box_pb2.Empty()\n",
    "    return stub.Sift_All(request)\n",
    "\n",
    "def ShowResponse(response,img1Path,img2Path):\n",
    "    Dict = loadmat(io.BytesIO(response.file))\n",
    "    savemat(\"./FeatureData.mat\",Dict)\n",
    "    print(Dict)\n",
    "    matched_points = Dict['PXL_20241017_160003417_PXL_20241017_160009267']\n",
    "\n",
    "    image = cv2.imread(img1Path) \n",
    "    img1 = cv2.cvtColor(image, cv2.COLOR_BGR2GRAY) \n",
    "\n",
    "    image = cv2.imread(img2Path) \n",
    "    img2 = cv2.cvtColor(image, cv2.COLOR_BGR2GRAY) \n",
    "\n",
    "    # Extract points from the matched points matrix\n",
    "    points1 = matched_points[:, :2]  # First 2 columns\n",
    "    points2 = matched_points[:, 2:]  # Last 2 columns\n",
    "\n",
    "    # Create a figure to display the images side by side\n",
    "    fig, ax = plt.subplots(1, 1, figsize=(15, 6))\n",
    "    # Create a new image that combines both images side by side\n",
    "    combined_img = np.hstack((img1, img2))\n",
    "\n",
    "    # Plot the combined image\n",
    "    ax.imshow(combined_img)\n",
    "\n",
    "    # Define a color map for different points\n",
    "    num_pairs = len(points1)  # Number of matched pairs\n",
    "    color_map = np.random.rand(num_pairs,3)\n",
    "\n",
    "    # Plot image 1 with matched points\n",
    "    # Draw lines and points\n",
    "    for i in range(num_pairs):\n",
    "        color = (color_map[i,0], color_map[i,1], color_map[i,2]) # Cycle through colors\n",
    "        # Draw points in the first image\n",
    "        ax.scatter(points1[i, 0], points1[i, 1], marker='o', color=color, edgecolor='black', s=100)  # s is size\n",
    "        # Draw points in the second image (offset by the width of the first image)\n",
    "        ax.scatter(points2[i, 0] + img1.shape[1], points2[i, 1], marker='o', color=color, edgecolor='black', s=100)\n",
    "\n",
    "        # Draw lines connecting matched points\n",
    "        ax.plot([points1[i, 0], points2[i, 0] + img1.shape[1]], \n",
    "                [points1[i, 1], points2[i, 1]], color=color, linestyle='-', linewidth=1)\n",
    "\n",
    "    plt.tight_layout()\n",
    "    plt.show()"
   ]
  },
  {
   "cell_type": "markdown",
   "id": "00e250e5-b3d5-45f3-9936-19d8b0efed15",
   "metadata": {},
   "source": [
    "### Rotina de teste: cria stub para o serviço,chama função que envia mensagem\n",
    "Target - Nó onde está a correr o serviço"
   ]
  },
  {
   "cell_type": "code",
   "execution_count": 21,
   "id": "b802d3c5-b481-4072-97f1-ee966ae9891c",
   "metadata": {},
   "outputs": [
    {
     "name": "stdout",
     "output_type": "stream",
     "text": [
      "{'__header__': b'MATLAB 5.0 MAT-file Platform: posix, Created on: Fri Nov 15 14:30:00 2024', '__version__': '1.0', '__globals__': [], 'PXL_20241017_160003417_PXL_20241017_160009267': array([[ 704.89788818, 2411.29370117,  728.01849365, 2118.93969727],\n",
      "       [ 707.95849609, 2317.01464844,  732.73876953, 2049.21386719],\n",
      "       [ 709.98748779, 2310.07104492,  736.52557373, 2044.35449219],\n",
      "       ...,\n",
      "       [3465.953125  , 3484.3293457 , 3464.17700195, 2158.15063477],\n",
      "       [3466.24731445, 2966.1574707 , 3464.91259766, 2700.33642578],\n",
      "       [3468.02026367, 2202.79223633, 3468.38476562, 2682.08764648]])}\n"
     ]
    },
    {
     "ename": "KeyError",
     "evalue": "'PXL_20241017_160003417.jpg-PXL_20241017_160009267.jpg'",
     "output_type": "error",
     "traceback": [
      "\u001b[1;31m---------------------------------------------------------------------------\u001b[0m",
      "\u001b[1;31mKeyError\u001b[0m                                  Traceback (most recent call last)",
      "Cell \u001b[1;32mIn[21], line 6\u001b[0m\n\u001b[0;32m      4\u001b[0m \u001b[38;5;28;01mtry\u001b[39;00m:\n\u001b[0;32m      5\u001b[0m     response \u001b[38;5;241m=\u001b[39m SendEmptyMessage(estimator_stub)\n\u001b[1;32m----> 6\u001b[0m     \u001b[43mShowResponse\u001b[49m\u001b[43m(\u001b[49m\u001b[43mresponse\u001b[49m\u001b[43m,\u001b[49m\u001b[38;5;124;43m\"\u001b[39;49m\u001b[38;5;124;43m./inputImages/PXL_20241017_160003417.jpg\u001b[39;49m\u001b[38;5;124;43m\"\u001b[39;49m\u001b[43m,\u001b[49m\u001b[38;5;124;43m\"\u001b[39;49m\u001b[38;5;124;43m./inputImages/PXL_20241017_160009267.jpg\u001b[39;49m\u001b[38;5;124;43m\"\u001b[39;49m\u001b[43m)\u001b[49m\n\u001b[0;32m      7\u001b[0m \u001b[38;5;28;01mexcept\u001b[39;00m grpc\u001b[38;5;241m.\u001b[39mRpcError \u001b[38;5;28;01mas\u001b[39;00m rpc_error:\n\u001b[0;32m      8\u001b[0m     \u001b[38;5;28mprint\u001b[39m(\u001b[38;5;124m'\u001b[39m\u001b[38;5;124mAn error has occurred:\u001b[39m\u001b[38;5;124m'\u001b[39m)\n",
      "Cell \u001b[1;32mIn[20], line 9\u001b[0m, in \u001b[0;36mShowResponse\u001b[1;34m(response, img1Path, img2Path)\u001b[0m\n\u001b[0;32m      7\u001b[0m savemat(\u001b[38;5;124m\"\u001b[39m\u001b[38;5;124m./FeatureData.mat\u001b[39m\u001b[38;5;124m\"\u001b[39m,Dict)\n\u001b[0;32m      8\u001b[0m \u001b[38;5;28mprint\u001b[39m(Dict)\n\u001b[1;32m----> 9\u001b[0m matched_points \u001b[38;5;241m=\u001b[39m \u001b[43mDict\u001b[49m\u001b[43m[\u001b[49m\u001b[38;5;124;43m'\u001b[39;49m\u001b[38;5;124;43mPXL_20241017_160003417.jpg-PXL_20241017_160009267.jpg\u001b[39;49m\u001b[38;5;124;43m'\u001b[39;49m\u001b[43m]\u001b[49m\n\u001b[0;32m     11\u001b[0m image \u001b[38;5;241m=\u001b[39m cv2\u001b[38;5;241m.\u001b[39mimread(img1Path) \n\u001b[0;32m     12\u001b[0m img1 \u001b[38;5;241m=\u001b[39m cv2\u001b[38;5;241m.\u001b[39mcvtColor(image, cv2\u001b[38;5;241m.\u001b[39mCOLOR_BGR2GRAY) \n",
      "\u001b[1;31mKeyError\u001b[0m: 'PXL_20241017_160003417.jpg-PXL_20241017_160009267.jpg'"
     ]
    }
   ],
   "source": [
    "    target = 'localhost:8061'\n",
    "    with grpc.insecure_channel(target) as channel:\n",
    "        estimator_stub = generic_box_pb2_grpc.GenericBoxServiceStub(channel)\n",
    "        try:\n",
    "            response = SendEmptyMessage(estimator_stub)\n",
    "            ShowResponse(response,\"./inputImages/PXL_20241017_160003417.jpg\",\"./inputImages/PXL_20241017_160009267.jpg\")\n",
    "        except grpc.RpcError as rpc_error:\n",
    "            print('An error has occurred:')\n",
    "            print(f'  Error Code: {rpc_error.code()}')\n",
    "            print(f'  Details: {rpc_error.details()}')\n"
   ]
  },
  {
   "cell_type": "code",
   "execution_count": null,
   "id": "ef5e8eb5-93fc-463d-a9de-2aeffaa718bb",
   "metadata": {},
   "outputs": [
    {
     "ename": "SyntaxError",
     "evalue": "invalid syntax (2615864601.py, line 1)",
     "output_type": "error",
     "traceback": [
      "\u001b[1;36m  Cell \u001b[1;32mIn[18], line 1\u001b[1;36m\u001b[0m\n\u001b[1;33m    response.\u001b[0m\n\u001b[1;37m             ^\u001b[0m\n\u001b[1;31mSyntaxError\u001b[0m\u001b[1;31m:\u001b[0m invalid syntax\n"
     ]
    }
   ],
   "source": [
    "response."
   ]
  }
 ],
 "metadata": {
  "kernelspec": {
   "display_name": "Python 3 (ipykernel)",
   "language": "python",
   "name": "python3"
  },
  "language_info": {
   "codemirror_mode": {
    "name": "ipython",
    "version": 3
   },
   "file_extension": ".py",
   "mimetype": "text/x-python",
   "name": "python",
   "nbconvert_exporter": "python",
   "pygments_lexer": "ipython3",
   "version": "3.12.4"
  }
 },
 "nbformat": 4,
 "nbformat_minor": 5
}
